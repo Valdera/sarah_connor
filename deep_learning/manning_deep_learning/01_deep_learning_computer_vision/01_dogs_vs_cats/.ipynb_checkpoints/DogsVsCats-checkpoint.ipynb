{
 "cells": [
  {
   "cell_type": "code",
   "execution_count": 2,
   "metadata": {},
   "outputs": [],
   "source": [
    "import os, shutil\n",
    "os.chdir('D:') \n",
    "\n",
    "# Path to the directory where the original dataset was uncompressed\n",
    "original_dataset_dir = \"\\ValderaProject\\Machine Learning and OpenCV Cheat\\DeepLearingManning\\\\06 - Deep Learning For Computer Vision\\dogs_and_cats_original_data\\\\train\"\n",
    "\n",
    "# Directory where we will store the smaller dataset\n",
    "base_dir = \"\\ValderaProject\\Machine Learning and OpenCV Cheat\\DeepLearingManning\\\\06 - Deep Learning For Computer Vision\\dogs_and_cats_small\"\n",
    "os.mkdir(base_dir)\n",
    "\n",
    "# Directory for Training, Validation, and Test\n",
    "train_dir = os.path.join(base_dir, 'train')\n",
    "os.mkdir(train_dir)\n",
    "validation_dir = os.path.join(base_dir, 'validation')\n",
    "os.mkdir(validation_dir)\n",
    "test_dir = os.path.join(base_dir, 'test')\n",
    "os.mkdir(test_dir)\n",
    "\n",
    "# Directory with training cat pictures\n",
    "train_cats_dir = os.path.join(train_dir, 'cats')\n",
    "os.mkdir(train_cats_dir)\n",
    "\n",
    "# Directory with training dogs pictures\n",
    "train_dogs_dir = os.path.join(train_dir, 'dogs')\n",
    "os.mkdir(train_dogs_dir)\n",
    "\n",
    "# Directory with validation cats pictures\n",
    "validation_cats_dir = os.path.join(validation_dir, 'cats')\n",
    "os.mkdir(validation_cats_dir)\n",
    "\n",
    "# Directory with validation dogs pictures\n",
    "validation_dogs_dir = os.path.join(validation_dir, 'dogs')\n",
    "os.mkdir(validation_dogs_dir)\n",
    "\n",
    "# Directory with test cats pictures\n",
    "test_cats_dir = os.path.join(test_dir, 'cats')\n",
    "os.mkdir(test_cats_dir)\n",
    "\n",
    "# Directory with test dogs pictures\n",
    "test_dogs_dir = os.path.join(test_dir, 'dogs')\n",
    "os.mkdir(test_dogs_dir)\n",
    "\n",
    "# Copies the first 1000 cat images to the train_cats_dir\n",
    "fnames = ['cat.{}.jpg'.format(i) for i in range(1000)]\n",
    "for fname in fnames:\n",
    "    src = os.path.join(original_dataset_dir, fname)\n",
    "    dst = os.path.join(train_cats_dir, fname)\n",
    "    shutil.copy(src, dst)\n",
    "    \n",
    "# Copies the next 500 cat images to the validation_cats_dir\n",
    "fnames = ['cat.{}.jpg'.format(i) for i in range(1000, 1500)]\n",
    "for fname in fnames:\n",
    "    src = os.path.join(original_dataset_dir, fname)\n",
    "    dst = os.path.join(validation_cats_dir, fname)\n",
    "    shutil.copyfile(src, dst)\n",
    "\n",
    "# Copies the next 500 cat images to the test_cats_dir\n",
    "fnames = ['cat.{}.jpg'.format(i) for i in range(1500, 2000)]\n",
    "for fname in fnames:\n",
    "    src = os.path.join(original_dataset_dir, fname)\n",
    "    dst = os.path.join(test_cats_dir, fname)\n",
    "    shutil.copyfile(src, dst)\n",
    "    \n",
    "# Copies the first 1000 dogs images to the train_dogs_dir\n",
    "fnames = ['dog.{}.jpg'.format(i) for i in range(1000)]\n",
    "for fname in fnames:\n",
    "    src = os.path.join(original_dataset_dir, fname)\n",
    "    dst = os.path.join(train_dogs_dir, fname)\n",
    "    shutil.copyfile(src, dst)\n",
    "\n",
    "# Copies the next 500 dogs images to the validation_dogs_dir\n",
    "fnames = ['dog.{}.jpg'.format(i) for i in range(1000, 1500)]\n",
    "for fname in fnames:\n",
    "    src = os.path.join(original_dataset_dir, fname)\n",
    "    dst = os.path.join(validation_dogs_dir, fname)\n",
    "    shutil.copyfile(src, dst)\n",
    "\n",
    "# Copies the next 500 dogs images to the test_dogs_dir\n",
    "fnames = ['dog.{}.jpg'.format(i) for i in range(1500, 2000)]\n",
    "for fname in fnames:\n",
    "    src = os.path.join(original_dataset_dir, fname)\n",
    "    dst = os.path.join(test_dogs_dir, fname)\n",
    "    shutil.copyfile(src, dst)"
   ]
  },
  {
   "cell_type": "code",
   "execution_count": 3,
   "metadata": {},
   "outputs": [
    {
     "name": "stdout",
     "output_type": "stream",
     "text": [
      "total training cat images: 1000\n",
      "total training dog images: 1000\n",
      "total validation cat images: 500\n",
      "total validation dog images: 500\n",
      "total test cat images: 500\n",
      "total test dog images: 500\n"
     ]
    }
   ],
   "source": [
    "import os, shutil\n",
    "print('total training cat images:', len(os.listdir(train_cats_dir)))\n",
    "print('total training dog images:', len(os.listdir(train_dogs_dir)))\n",
    "print('total validation cat images:', len(os.listdir(validation_cats_dir)))\n",
    "print('total validation dog images:', len(os.listdir(validation_dogs_dir)))\n",
    "print('total test cat images:', len(os.listdir(test_cats_dir)))\n",
    "print('total test dog images:', len(os.listdir(test_dogs_dir)))"
   ]
  },
  {
   "cell_type": "code",
   "execution_count": 9,
   "metadata": {},
   "outputs": [],
   "source": [
    "from keras import layers\n",
    "from keras import models\n",
    "\n",
    "model = models.Sequential()\n",
    "model.add(layers.Conv2D(32, (3,3), activation='relu', input_shape=(150, 150, 3)))\n",
    "model.add(layers.MaxPooling2D((2, 2)))\n",
    "model.add(layers.Conv2D(64, (3, 3), activation='relu'))\n",
    "model.add(layers.MaxPooling2D((2, 2)))\n",
    "model.add(layers.Conv2D(128, (3, 3), activation='relu'))\n",
    "model.add(layers.MaxPooling2D((2, 2)))\n",
    "model.add(layers.Conv2D(128, (3, 3), activation='relu'))\n",
    "model.add(layers.MaxPooling2D((2, 2)))\n",
    "model.add(layers.Flatten())\n",
    "model.add(layers.Dense(512, activation='relu'))\n",
    "model.add(layers.Dense(1, activation='sigmoid'))"
   ]
  },
  {
   "cell_type": "code",
   "execution_count": 10,
   "metadata": {},
   "outputs": [
    {
     "name": "stdout",
     "output_type": "stream",
     "text": [
      "Model: \"sequential_1\"\n",
      "_________________________________________________________________\n",
      "Layer (type)                 Output Shape              Param #   \n",
      "=================================================================\n",
      "conv2d_4 (Conv2D)            (None, 148, 148, 32)      896       \n",
      "_________________________________________________________________\n",
      "max_pooling2d_4 (MaxPooling2 (None, 74, 74, 32)        0         \n",
      "_________________________________________________________________\n",
      "conv2d_5 (Conv2D)            (None, 72, 72, 64)        18496     \n",
      "_________________________________________________________________\n",
      "max_pooling2d_5 (MaxPooling2 (None, 36, 36, 64)        0         \n",
      "_________________________________________________________________\n",
      "conv2d_6 (Conv2D)            (None, 34, 34, 128)       73856     \n",
      "_________________________________________________________________\n",
      "max_pooling2d_6 (MaxPooling2 (None, 17, 17, 128)       0         \n",
      "_________________________________________________________________\n",
      "conv2d_7 (Conv2D)            (None, 15, 15, 128)       147584    \n",
      "_________________________________________________________________\n",
      "max_pooling2d_7 (MaxPooling2 (None, 7, 7, 128)         0         \n",
      "_________________________________________________________________\n",
      "flatten_1 (Flatten)          (None, 6272)              0         \n",
      "_________________________________________________________________\n",
      "dense_2 (Dense)              (None, 512)               3211776   \n",
      "_________________________________________________________________\n",
      "dense_3 (Dense)              (None, 1)                 513       \n",
      "=================================================================\n",
      "Total params: 3,453,121\n",
      "Trainable params: 3,453,121\n",
      "Non-trainable params: 0\n",
      "_________________________________________________________________\n"
     ]
    }
   ],
   "source": [
    "model.summary()"
   ]
  },
  {
   "cell_type": "code",
   "execution_count": 11,
   "metadata": {},
   "outputs": [],
   "source": [
    "from keras import optimizers\n",
    "\n",
    "model.compile(loss='binary_crossentropy',\n",
    "    optimizer=optimizers.RMSprop(lr=1e-4),\n",
    "    metrics=['acc'])"
   ]
  },
  {
   "cell_type": "code",
   "execution_count": 13,
   "metadata": {},
   "outputs": [
    {
     "name": "stdout",
     "output_type": "stream",
     "text": [
      "Found 2000 images belonging to 2 classes.\n",
      "Found 1000 images belonging to 2 classes.\n"
     ]
    }
   ],
   "source": [
    "from keras.preprocessing.image import ImageDataGenerator\n",
    "\n",
    "train_datagen = ImageDataGenerator(rescale=1./255)\n",
    "test_datagen = ImageDataGenerator(rescale=1./255)\n",
    "\n",
    "train_generator = train_datagen.flow_from_directory(\n",
    "    train_dir,\n",
    "    target_size=(150,150),\n",
    "    batch_size=20,\n",
    "    class_mode='binary')\n",
    "\n",
    "validation_generator = test_datagen.flow_from_directory(\n",
    "    validation_dir,\n",
    "    target_size=(150, 150),\n",
    "    batch_size=20,\n",
    "    class_mode='binary')\n"
   ]
  },
  {
   "cell_type": "code",
   "execution_count": 14,
   "metadata": {},
   "outputs": [
    {
     "name": "stdout",
     "output_type": "stream",
     "text": [
      "WARNING:tensorflow:From <ipython-input-14-76dc69394845>:1: Model.fit_generator (from tensorflow.python.keras.engine.training) is deprecated and will be removed in a future version.\n",
      "Instructions for updating:\n",
      "Please use Model.fit, which supports generators.\n",
      "Epoch 1/30\n",
      "100/100 [==============================] - 51s 510ms/step - loss: 0.6888 - acc: 0.5240 - val_loss: 0.6605 - val_acc: 0.6080\n",
      "Epoch 2/30\n",
      "100/100 [==============================] - 44s 442ms/step - loss: 0.6562 - acc: 0.6095 - val_loss: 0.6498 - val_acc: 0.5870\n",
      "Epoch 3/30\n",
      "100/100 [==============================] - 44s 443ms/step - loss: 0.6031 - acc: 0.6775 - val_loss: 0.6017 - val_acc: 0.6780\n",
      "Epoch 4/30\n",
      "100/100 [==============================] - 47s 471ms/step - loss: 0.5662 - acc: 0.7055 - val_loss: 0.6051 - val_acc: 0.6690\n",
      "Epoch 5/30\n",
      "100/100 [==============================] - 46s 458ms/step - loss: 0.5362 - acc: 0.7275 - val_loss: 0.6605 - val_acc: 0.6200\n",
      "Epoch 6/30\n",
      "100/100 [==============================] - 47s 469ms/step - loss: 0.5163 - acc: 0.7370 - val_loss: 0.5970 - val_acc: 0.6760\n",
      "Epoch 7/30\n",
      "100/100 [==============================] - 46s 456ms/step - loss: 0.4913 - acc: 0.7560 - val_loss: 0.5750 - val_acc: 0.6960\n",
      "Epoch 8/30\n",
      "100/100 [==============================] - 46s 455ms/step - loss: 0.4659 - acc: 0.7770 - val_loss: 0.5777 - val_acc: 0.7100\n",
      "Epoch 9/30\n",
      "100/100 [==============================] - 46s 456ms/step - loss: 0.4461 - acc: 0.7940 - val_loss: 0.5538 - val_acc: 0.7250\n",
      "Epoch 10/30\n",
      "100/100 [==============================] - 47s 473ms/step - loss: 0.4174 - acc: 0.8060 - val_loss: 0.5682 - val_acc: 0.7200\n",
      "Epoch 11/30\n",
      "100/100 [==============================] - 49s 494ms/step - loss: 0.3887 - acc: 0.8285 - val_loss: 0.6020 - val_acc: 0.7090\n",
      "Epoch 12/30\n",
      "100/100 [==============================] - 47s 469ms/step - loss: 0.3687 - acc: 0.8370 - val_loss: 0.5640 - val_acc: 0.7210\n",
      "Epoch 13/30\n",
      "100/100 [==============================] - 46s 457ms/step - loss: 0.3555 - acc: 0.8395 - val_loss: 0.5538 - val_acc: 0.7220\n",
      "Epoch 14/30\n",
      "100/100 [==============================] - 48s 480ms/step - loss: 0.3265 - acc: 0.8615 - val_loss: 0.5744 - val_acc: 0.7150\n",
      "Epoch 15/30\n",
      "100/100 [==============================] - 46s 459ms/step - loss: 0.3011 - acc: 0.8725 - val_loss: 0.6091 - val_acc: 0.7070\n",
      "Epoch 16/30\n",
      "100/100 [==============================] - 45s 450ms/step - loss: 0.2870 - acc: 0.8855 - val_loss: 0.5892 - val_acc: 0.7220\n",
      "Epoch 17/30\n",
      "100/100 [==============================] - 45s 455ms/step - loss: 0.2624 - acc: 0.8930 - val_loss: 0.6110 - val_acc: 0.7290\n",
      "Epoch 18/30\n",
      "100/100 [==============================] - 45s 453ms/step - loss: 0.2434 - acc: 0.9060 - val_loss: 0.6179 - val_acc: 0.7200\n",
      "Epoch 19/30\n",
      "100/100 [==============================] - 47s 472ms/step - loss: 0.2234 - acc: 0.9090 - val_loss: 0.7693 - val_acc: 0.7040\n",
      "Epoch 20/30\n",
      "100/100 [==============================] - 45s 454ms/step - loss: 0.2010 - acc: 0.9255 - val_loss: 0.6814 - val_acc: 0.7180\n",
      "Epoch 21/30\n",
      "100/100 [==============================] - 45s 455ms/step - loss: 0.1839 - acc: 0.9340 - val_loss: 0.6578 - val_acc: 0.7370\n",
      "Epoch 22/30\n",
      "100/100 [==============================] - 46s 456ms/step - loss: 0.1640 - acc: 0.9415 - val_loss: 0.7118 - val_acc: 0.7290\n",
      "Epoch 23/30\n",
      "100/100 [==============================] - 45s 452ms/step - loss: 0.1556 - acc: 0.9525 - val_loss: 0.7649 - val_acc: 0.7230\n",
      "Epoch 24/30\n",
      "100/100 [==============================] - 46s 460ms/step - loss: 0.1321 - acc: 0.9540 - val_loss: 0.8157 - val_acc: 0.7190\n",
      "Epoch 25/30\n",
      "100/100 [==============================] - 45s 451ms/step - loss: 0.1112 - acc: 0.9680 - val_loss: 0.8455 - val_acc: 0.7090\n",
      "Epoch 26/30\n",
      "100/100 [==============================] - 44s 444ms/step - loss: 0.1003 - acc: 0.9675 - val_loss: 0.9433 - val_acc: 0.7150\n",
      "Epoch 27/30\n",
      "100/100 [==============================] - 44s 444ms/step - loss: 0.0920 - acc: 0.9735 - val_loss: 0.8425 - val_acc: 0.7240\n",
      "Epoch 28/30\n",
      "100/100 [==============================] - 45s 451ms/step - loss: 0.0756 - acc: 0.9795 - val_loss: 0.8784 - val_acc: 0.7250\n",
      "Epoch 29/30\n",
      "100/100 [==============================] - 45s 454ms/step - loss: 0.0635 - acc: 0.9820 - val_loss: 0.9176 - val_acc: 0.7210\n",
      "Epoch 30/30\n",
      "100/100 [==============================] - 46s 456ms/step - loss: 0.0606 - acc: 0.9805 - val_loss: 0.9728 - val_acc: 0.7310\n"
     ]
    }
   ],
   "source": [
    "history = model.fit_generator(\n",
    "    train_generator,\n",
    "    steps_per_epoch=100,\n",
    "    epochs=30,\n",
    "    validation_data=validation_generator,\n",
    "    validation_steps=50)"
   ]
  },
  {
   "cell_type": "code",
   "execution_count": 15,
   "metadata": {},
   "outputs": [],
   "source": [
    "model.save('cats_and_dogs_small_1.h5')"
   ]
  },
  {
   "cell_type": "code",
   "execution_count": 16,
   "metadata": {},
   "outputs": [
    {
     "data": {
      "image/png": "[encoded data removed]",
      "text/plain": [
       "<Figure size 432x288 with 1 Axes>"
      ]
     },
     "metadata": {
      "needs_background": "light"
     },
     "output_type": "display_data"
    },
    {
     "data": {
      "image/png": "[encoded data removed]",
      "text/plain": [
       "<Figure size 432x288 with 1 Axes>"
      ]
     },
     "metadata": {
      "needs_background": "light"
     },
     "output_type": "display_data"
    }
   ],
   "source": [
    "import matplotlib.pyplot as plt\n",
    "\n",
    "acc = history.history['acc']\n",
    "val_acc = history.history['val_acc']\n",
    "loss = history.history['loss']\n",
    "val_loss = history.history['val_loss']\n",
    "epochs = range(1, len(acc) + 1)\n",
    "plt.plot(epochs, acc, 'bo', label='Training acc')\n",
    "plt.plot(epochs, val_acc, 'b', label='Validation acc')\n",
    "plt.title('Training and validation accuracy')\n",
    "plt.legend()\n",
    "plt.figure()\n",
    "plt.plot(epochs, loss, 'bo', label='Training loss')\n",
    "plt.plot(epochs, val_loss, 'b', label='Validation loss')\n",
    "plt.title('Training and validation loss')\n",
    "plt.legend()\n",
    "plt.show()"
   ]
  },
  {
   "cell_type": "code",
   "execution_count": null,
   "metadata": {},
   "outputs": [],
   "source": [
    "datagen = ImageDataGenerator(\n",
    "    rotation_range=40,\n",
    "    width_shift_range=0.2)"
   ]
  },
  {
   "cell_type": "code",
   "execution_count": 2,
   "metadata": {},
   "outputs": [
    {
     "data": {
      "text/plain": [
       "True"
      ]
     },
     "execution_count": 2,
     "metadata": {},
     "output_type": "execute_result"
    }
   ],
   "source": []
  },
  {
   "cell_type": "code",
   "execution_count": null,
   "metadata": {},
   "outputs": [],
   "source": []
  }
 ],
 "metadata": {
  "kernelspec": {
   "display_name": "Python 3",
   "language": "python",
   "name": "python3"
  },
  "language_info": {
   "codemirror_mode": {
    "name": "ipython",
    "version": 3
   },
   "file_extension": ".py",
   "mimetype": "text/x-python",
   "name": "python",
   "nbconvert_exporter": "python",
   "pygments_lexer": "ipython3",
   "version": "3.8.5"
  }
 },
 "nbformat": 4,
 "nbformat_minor": 4
}
