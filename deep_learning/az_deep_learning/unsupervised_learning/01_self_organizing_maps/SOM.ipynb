{
 "cells": [
  {
   "cell_type": "markdown",
   "metadata": {
    "id": "t9oX7AL3nyLm"
   },
   "source": [
    "#Self Organizing Map"
   ]
  },
  {
   "cell_type": "markdown",
   "metadata": {
    "id": "r9maNhdd65pB"
   },
   "source": [
    "##Install MiniSom Package"
   ]
  },
  {
   "cell_type": "code",
   "execution_count": null,
   "metadata": {
    "colab": {
     "base_uri": "https://localhost:8080/",
     "height": 34
    },
    "id": "1KB28WUso0Bj",
    "outputId": "e8fb3cdd-73e2-49c2-9976-25be1b37e9e6"
   },
   "outputs": [
    {
     "name": "stdout",
     "output_type": "stream",
     "text": [
      "Requirement already satisfied: MiniSom in /usr/local/lib/python3.6/dist-packages (2.2.5)\n"
     ]
    }
   ],
   "source": [
    "!pip install MiniSom"
   ]
  },
  {
   "cell_type": "markdown",
   "metadata": {
    "id": "6AX0Y23PnyOI"
   },
   "source": [
    "### Importing the libraries\n"
   ]
  },
  {
   "cell_type": "code",
   "execution_count": 1,
   "metadata": {
    "id": "gaSkOFKKBB3b"
   },
   "outputs": [],
   "source": [
    "import numpy as np\n",
    "import pandas as pd\n",
    "import matplotlib.pyplot as plt"
   ]
  },
  {
   "cell_type": "markdown",
   "metadata": {
    "id": "SCl7ERn_n539"
   },
   "source": [
    "## Importing the dataset"
   ]
  },
  {
   "cell_type": "code",
   "execution_count": 2,
   "metadata": {
    "id": "4hgeaN3CoRfl"
   },
   "outputs": [],
   "source": [
    "dataset = pd.read_csv('Credit_Card_Applications.csv')\n",
    "X = dataset.iloc[:, :-1].values \n",
    "y = dataset.iloc[:, -1].values"
   ]
  },
  {
   "cell_type": "markdown",
   "metadata": {
    "id": "fYHJ0dd6n-d4"
   },
   "source": [
    "## Feature Scaling\n"
   ]
  },
  {
   "cell_type": "code",
   "execution_count": 3,
   "metadata": {
    "id": "sY7JiUxwoSOd"
   },
   "outputs": [],
   "source": [
    "from sklearn.preprocessing import MinMaxScaler\n",
    "sc = MinMaxScaler(feature_range = (0,1))\n",
    "X = sc.fit_transform(X)"
   ]
  },
  {
   "cell_type": "markdown",
   "metadata": {
    "id": "aPp-7wfNoAhR"
   },
   "source": [
    "##Training the SOM\n"
   ]
  },
  {
   "cell_type": "code",
   "execution_count": 4,
   "metadata": {
    "id": "3iuAhM6ooS0k"
   },
   "outputs": [],
   "source": [
    "from minisom import MiniSom\n",
    "som = MiniSom(x=10, y=10, input_len= 15, sigma= 1.0, learning_rate = 0.5)\n",
    "som.random_weights_init(X)\n",
    "som.train_random(data = X, num_iteration = 100)"
   ]
  },
  {
   "cell_type": "markdown",
   "metadata": {
    "id": "YiU27C-ToCnH"
   },
   "source": [
    "##Visualizing the results\n"
   ]
  },
  {
   "cell_type": "code",
   "execution_count": 5,
   "metadata": {
    "id": "XzrIX4fZoTQj"
   },
   "outputs": [
    {
     "data": {
      "image/png": "[encoded data removed]",
      "text/plain": [
       "<Figure size 432x288 with 2 Axes>"
      ]
     },
     "metadata": {
      "needs_background": "light"
     },
     "output_type": "display_data"
    }
   ],
   "source": [
    "from pylab import bone, pcolor, colorbar, plot, show\n",
    "bone()\n",
    "pcolor(som.distance_map().T)\n",
    "colorbar()\n",
    "markers = ['o', 's']\n",
    "colors = ['r', 'g']\n",
    "for i, x in enumerate(X):\n",
    "    w = som.winner(x)\n",
    "    plot(w[0] + 0.5,\n",
    "         w[1] + 0.5,\n",
    "         markers[y[i]],\n",
    "         markeredgecolor = colors[y[i]],\n",
    "         markerfacecolor = 'None',\n",
    "         markersize = 10,\n",
    "         markeredgewidth = 2)\n",
    "show()"
   ]
  },
  {
   "cell_type": "markdown",
   "metadata": {
    "id": "4C-I_jBfoEkP"
   },
   "source": [
    "## Finding the frauds\n"
   ]
  },
  {
   "cell_type": "code",
   "execution_count": 6,
   "metadata": {
    "id": "4xd-jb8doTlM"
   },
   "outputs": [],
   "source": [
    "mappings = som.win_map(X)\n",
    "frauds = np.concatenate((mappings[(1,1)], mappings[(4,1)]), axis = 0)\n",
    "frauds = sc.inverse_transform(frauds)"
   ]
  },
  {
   "cell_type": "markdown",
   "metadata": {
    "id": "frXqAlpo84b1"
   },
   "source": [
    "##Printing the Fraunch Clients"
   ]
  },
  {
   "cell_type": "code",
   "execution_count": 7,
   "metadata": {
    "colab": {
     "base_uri": "https://localhost:8080/",
     "height": 544
    },
    "id": "54a4NnJo8761",
    "outputId": "1d7ae019-4598-4750-a64f-fdedfdc7fe48"
   },
   "outputs": [
    {
     "name": "stdout",
     "output_type": "stream",
     "text": [
      "Fraud Customer IDs\n",
      "15789201\n",
      "15723884\n",
      "15778290\n",
      "15751137\n",
      "15766663\n",
      "15671293\n",
      "15800049\n",
      "15785367\n",
      "15697844\n",
      "15706602\n",
      "15801817\n",
      "15675176\n",
      "15796787\n",
      "15768449\n",
      "15687688\n",
      "15668679\n",
      "15738487\n",
      "15682686\n",
      "15621244\n",
      "15636521\n",
      "15632789\n",
      "15707602\n",
      "15720725\n",
      "15567834\n",
      "15591035\n",
      "15672912\n",
      "15694677\n",
      "15598614\n",
      "15608804\n",
      "15631267\n",
      "15611189\n",
      "15572361\n",
      "15698522\n"
     ]
    }
   ],
   "source": [
    "print('Fraud Customer IDs')\n",
    "for i in frauds[:, 0]:\n",
    "  print(int(i))"
   ]
  },
  {
   "cell_type": "code",
   "execution_count": null,
   "metadata": {},
   "outputs": [],
   "source": []
  }
 ],
 "metadata": {
  "colab": {
   "collapsed_sections": [],
   "name": "SOM.ipynb",
   "provenance": [],
   "toc_visible": true
  },
  "kernelspec": {
   "display_name": "Python 3",
   "language": "python",
   "name": "python3"
  },
  "language_info": {
   "codemirror_mode": {
    "name": "ipython",
    "version": 3
   },
   "file_extension": ".py",
   "mimetype": "text/x-python",
   "name": "python",
   "nbconvert_exporter": "python",
   "pygments_lexer": "ipython3",
   "version": "3.8.5"
  }
 },
 "nbformat": 4,
 "nbformat_minor": 4
}
